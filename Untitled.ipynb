{
 "cells": [
  {
   "cell_type": "code",
   "execution_count": 1,
   "id": "e3fb91b7-10d6-4fb1-866c-715b291b1afa",
   "metadata": {},
   "outputs": [],
   "source": [
    "import os\n",
    "import requests\n"
   ]
  },
  {
   "cell_type": "code",
   "execution_count": 20,
   "id": "d637232f-50c2-42fe-b127-b63f57a7a010",
   "metadata": {},
   "outputs": [],
   "source": [
    "def get_auth_header():\n",
    "    return {\"Authorization\": \"Bearer %s\" % os.getenv('LIFX_API_KEY'),}\n",
    "\n",
    "def get_devices():\n",
    "    return requests.get('https://api.lifx.com/v1/lights/all', headers=get_auth_header())\n",
    "\n",
    "def change_device_state(label=None):\n",
    "    for dev in get_devices().json():\n",
    "        if dev[\"label\"] == label:\n",
    "            # construct payload based on device state\n",
    "            payload = { \\\n",
    "                \"power\" : \"off\" if dev[\"power\"] == \"on\" else \"on\",\n",
    "            }\n",
    "            # put payload\n",
    "            response = requests.put(' https://api.lifx.com/v1/lights/all/state',\n",
    "                                   data=payload,\n",
    "                                   headers=get_auth_header())\n",
    "            print(response.json())\n",
    "def toggle_all_power():\n",
    "    response = requests.post('https://api.lifx.com/v1/lights/all/toggle', headers=get_auth_header())"
   ]
  },
  {
   "cell_type": "code",
   "execution_count": null,
   "id": "c642d09e-55c3-4866-9bfa-35e694102d9a",
   "metadata": {},
   "outputs": [],
   "source": []
  },
  {
   "cell_type": "code",
   "execution_count": 5,
   "id": "50188151-aa15-434c-938b-e42a0fcc567e",
   "metadata": {},
   "outputs": [
    {
     "data": {
      "text/plain": [
       "[{'id': 'd073d52f83e4',\n",
       "  'uuid': '02f86546-e928-41b9-9b13-0e4bc00a1282',\n",
       "  'label': 'Desk Lamp',\n",
       "  'connected': True,\n",
       "  'power': 'on',\n",
       "  'color': {'hue': 0, 'saturation': 0, 'kelvin': 3500},\n",
       "  'brightness': 1,\n",
       "  'group': {'id': '765d8fe2162caac6afc002d70cb2f3ba', 'name': 'Den'},\n",
       "  'location': {'id': '032c0d5a7b064135028e503a8617584d', 'name': 'Room'},\n",
       "  'product': {'name': 'LIFX A19',\n",
       "   'identifier': 'lifx_a19',\n",
       "   'company': 'LIFX',\n",
       "   'vendor_id': 1,\n",
       "   'product_id': 43,\n",
       "   'capabilities': {'has_color': True,\n",
       "    'has_variable_color_temp': True,\n",
       "    'has_ir': False,\n",
       "    'has_hev': False,\n",
       "    'has_chain': False,\n",
       "    'has_matrix': False,\n",
       "    'has_multizone': False,\n",
       "    'min_kelvin': 2500,\n",
       "    'max_kelvin': 9000}},\n",
       "  'last_seen': '2021-07-09T05:54:43Z',\n",
       "  'seconds_since_seen': 0}]"
      ]
     },
     "execution_count": 5,
     "metadata": {},
     "output_type": "execute_result"
    }
   ],
   "source": [
    "get_devices().json()"
   ]
  },
  {
   "cell_type": "code",
   "execution_count": 15,
   "id": "b35a6ead-a90c-4977-8e46-f999c8e05f32",
   "metadata": {},
   "outputs": [
    {
     "name": "stdout",
     "output_type": "stream",
     "text": [
      "{'results': [{'id': 'd073d52f83e4', 'status': 'ok', 'label': 'Desk Lamp'}]}\n"
     ]
    }
   ],
   "source": [
    "change_device_state('Desk Lamp')"
   ]
  },
  {
   "cell_type": "code",
   "execution_count": 19,
   "id": "49fcd106-9b72-4495-a886-5cc3ca8b9b32",
   "metadata": {},
   "outputs": [
    {
     "name": "stdout",
     "output_type": "stream",
     "text": [
      "{'results': [{'id': 'd073d52f83e4', 'status': 'ok', 'label': 'Desk Lamp'}]}\n"
     ]
    }
   ],
   "source": [
    "change_device_state()"
   ]
  },
  {
   "cell_type": "code",
   "execution_count": 22,
   "id": "00d2f794-f85b-4a22-bd17-0f13d52b07f0",
   "metadata": {},
   "outputs": [],
   "source": [
    "toggle_all_power()"
   ]
  },
  {
   "cell_type": "code",
   "execution_count": null,
   "id": "1109a613-237a-4f79-af71-b905fcb08575",
   "metadata": {},
   "outputs": [],
   "source": []
  }
 ],
 "metadata": {
  "kernelspec": {
   "display_name": "Python 3",
   "language": "python",
   "name": "python3"
  },
  "language_info": {
   "codemirror_mode": {
    "name": "ipython",
    "version": 3
   },
   "file_extension": ".py",
   "mimetype": "text/x-python",
   "name": "python",
   "nbconvert_exporter": "python",
   "pygments_lexer": "ipython3",
   "version": "3.8.8"
  }
 },
 "nbformat": 4,
 "nbformat_minor": 5
}
